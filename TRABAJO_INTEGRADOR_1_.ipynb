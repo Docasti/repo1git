{
  "cells": [
    {
      "cell_type": "markdown",
      "metadata": {
        "id": "yWFMEJp2Zd1E"
      },
      "source": [
        "# ***TRABAJO INTEGRADOR I- ***\n",
        "DATOS BASADOS EN INFORMACIÓN PÚBLICA EN ARGENTINA\n",
        "\n",
        "\n"
      ]
    },
    {
      "cell_type": "markdown",
      "metadata": {
        "id": "DzfaPyiWmMZJ"
      },
      "source": [
        "---\n",
        "## **Acceso a los diferentes dataset y visualizacion**\n",
        "\n",
        "#Los dataset podran ser descargado del siguiente [enlace de drive](https://drive.google.com/drive/folders/1J-R6fricR7D1uf9g_Cg8gbIMajCe-eYw?usp=sharing). en algunos casos los datase contiene información de diferentes periodos de tiempo y etiquetas de las variables con nomenclatura específica. Para tener referencia de los datos de cada variables de la base de datos consultar en los siguientes enlaces según el dataset elegido.\n",
        "\n",
        "\n",
        "\n",
        "|    | Tema | Nombre del archivo | Enlace |\n",
        "|---|    ---   |         ---         |   ---  |\n",
        "1   | .... | spam.csv  |  '/content/spam.csv' |\n",
        "2   | supermercados| ventas-supermercados-2.csv  | [dataset de supermercados](https://www.datos.gob.ar/dataset/sspm_455/archivo/sspm_455.1) |\n",
        "3   | Mercado Central de Bs As |precios-mercadocentral.csv| [dataset de mercado](https://datos.gob.ar/ar/dataset/agroindustria-frutas-hortalizas---precios-mayoristas/archivo/agroindustria_6dce1e87-7988-4eaf-b0e1-b3abbb3964da) |"
      ]
    },
    {
      "cell_type": "markdown",
      "metadata": {
        "id": "s6OYVREZDtXF"
      },
      "source": [
        "#Apellido, Nombre, DNI, email .\n",
        "\n",
        "\n",
        "Castillo, Dora ; DNI 24452605 ; yo_adonis@outlook.com\n",
        "\n",
        "\n",
        "\n",
        "\n",
        "\n",
        "\n",
        "\n",
        "\n",
        "\n"
      ]
    },
    {
      "cell_type": "markdown",
      "metadata": {
        "id": "Q2wopJgTECIF"
      },
      "source": [
        "Redactar en formato resumen la problematica planteado e interes en el análisis del dataset elegido, el impacto que puede llevar a futuro analizar o cruzar información sobre dichas variables ,y cual sería a priori, el modelo a resulado que usted quisiera encontrar en funciones de determinadas condiciones. Esto deberá ser detallado en forma breve a modo de introducción\n"
      ]
    },
    {
      "cell_type": "markdown",
      "metadata": {
        "id": "hDSNzRnHvN94"
      },
      "source": [
        "Nuestro trabajo se centra en el análisis de un dataset que contiene mensajes de texto etiquetados como \"ham\" (no spam) o \"spam\", este etiquetado aportaria a calidad de la comunicación y la seguridad digital a futuro podría ayudar en la identificación /detección de patrones automática de comunicación no deseada para la protección de usuarios contra estafas y amenazas en línea,por ejemplo."
      ]
    },
    {
      "cell_type": "markdown",
      "metadata": {
        "id": "9YjUx7xKzBnw"
      },
      "source": [
        "_________________________________________________________________\n",
        "_________________________________________________________________\n",
        "_________________________________________________________________\n",
        "_________________________________________________________________\n",
        "##1- Ingrese el DATA SET"
      ]
    },
    {
      "cell_type": "code",
      "execution_count": null,
      "metadata": {
        "id": "fDny-v5Dxl6I"
      },
      "outputs": [],
      "source": [
        "#Subir archivo en la carpetita que aparece a la izquierda del colab, luego copiar la ruta y subirlo con las librerias necesarias\n",
        "import numpy as np\n",
        "import pandas as pd\n",
        "import matplotlib.pyplot as plt\n",
        "from sklearn.model_selection import train_test_split\n",
        "from sklearn.linear_model import LogisticRegression\n",
        "from sklearn.metrics import accuracy_score, confusion_matrix, classification_report\n",
        "from sklearn.feature_extraction.text import TfidfVectorizer\n",
        "from sklearn.metrics import roc_curve\n",
        "import pandas as pd\n",
        "from sklearn.metrics import confusion_matrix, accuracy_score, precision_score, recall_score, f1_score, roc_auc_score\n",
        "import seaborn as sns\n",
        "\n",
        "df = pd.read_csv('/content/spam.csv')\n"
      ]
    },
    {
      "cell_type": "markdown",
      "metadata": {
        "id": "ajWaCuM0zJhN"
      },
      "source": [
        "##2- Aplicar PROCESO de ANÁLISIS EXPLORATORIO DE LOS DATOS (Algunas funciones comúnes que puedes aplicar: .head .info .describe etc)."
      ]
    },
    {
      "cell_type": "code",
      "execution_count": null,
      "metadata": {
        "colab": {
          "base_uri": "https://localhost:8080/",
          "height": 362
        },
        "id": "7t0-4wZyziwH",
        "outputId": "64ae814e-18b5-4bc5-8964-55bec0cf487d"
      },
      "outputs": [
        {
          "name": "stdout",
          "output_type": "stream",
          "text": [
            "<class 'pandas.core.frame.DataFrame'>\n",
            "RangeIndex: 5572 entries, 0 to 5571\n",
            "Data columns (total 2 columns):\n",
            " #   Column    Non-Null Count  Dtype \n",
            "---  ------    --------------  ----- \n",
            " 0   Category  5572 non-null   object\n",
            " 1   Message   5572 non-null   object\n",
            "dtypes: object(2)\n",
            "memory usage: 87.2+ KB\n"
          ]
        },
        {
          "data": {
            "text/html": [
              "\n",
              "  <div id=\"df-88f3880a-866a-4326-b6b6-4e17312e6ec3\" class=\"colab-df-container\">\n",
              "    <div>\n",
              "<style scoped>\n",
              "    .dataframe tbody tr th:only-of-type {\n",
              "        vertical-align: middle;\n",
              "    }\n",
              "\n",
              "    .dataframe tbody tr th {\n",
              "        vertical-align: top;\n",
              "    }\n",
              "\n",
              "    .dataframe thead th {\n",
              "        text-align: right;\n",
              "    }\n",
              "</style>\n",
              "<table border=\"1\" class=\"dataframe\">\n",
              "  <thead>\n",
              "    <tr style=\"text-align: right;\">\n",
              "      <th></th>\n",
              "      <th>Category</th>\n",
              "      <th>Message</th>\n",
              "    </tr>\n",
              "  </thead>\n",
              "  <tbody>\n",
              "    <tr>\n",
              "      <th>0</th>\n",
              "      <td>ham</td>\n",
              "      <td>Go until jurong point, crazy.. Available only ...</td>\n",
              "    </tr>\n",
              "    <tr>\n",
              "      <th>1</th>\n",
              "      <td>ham</td>\n",
              "      <td>Ok lar... Joking wif u oni...</td>\n",
              "    </tr>\n",
              "    <tr>\n",
              "      <th>2</th>\n",
              "      <td>spam</td>\n",
              "      <td>Free entry in 2 a wkly comp to win FA Cup fina...</td>\n",
              "    </tr>\n",
              "    <tr>\n",
              "      <th>3</th>\n",
              "      <td>ham</td>\n",
              "      <td>U dun say so early hor... U c already then say...</td>\n",
              "    </tr>\n",
              "    <tr>\n",
              "      <th>4</th>\n",
              "      <td>ham</td>\n",
              "      <td>Nah I don't think he goes to usf, he lives aro...</td>\n",
              "    </tr>\n",
              "  </tbody>\n",
              "</table>\n",
              "</div>\n",
              "    <div class=\"colab-df-buttons\">\n",
              "\n",
              "  <div class=\"colab-df-container\">\n",
              "    <button class=\"colab-df-convert\" onclick=\"convertToInteractive('df-88f3880a-866a-4326-b6b6-4e17312e6ec3')\"\n",
              "            title=\"Convert this dataframe to an interactive table.\"\n",
              "            style=\"display:none;\">\n",
              "\n",
              "  <svg xmlns=\"http://www.w3.org/2000/svg\" height=\"24px\" viewBox=\"0 -960 960 960\">\n",
              "    <path d=\"M120-120v-720h720v720H120Zm60-500h600v-160H180v160Zm220 220h160v-160H400v160Zm0 220h160v-160H400v160ZM180-400h160v-160H180v160Zm440 0h160v-160H620v160ZM180-180h160v-160H180v160Zm440 0h160v-160H620v160Z\"/>\n",
              "  </svg>\n",
              "    </button>\n",
              "\n",
              "  <style>\n",
              "    .colab-df-container {\n",
              "      display:flex;\n",
              "      gap: 12px;\n",
              "    }\n",
              "\n",
              "    .colab-df-convert {\n",
              "      background-color: #E8F0FE;\n",
              "      border: none;\n",
              "      border-radius: 50%;\n",
              "      cursor: pointer;\n",
              "      display: none;\n",
              "      fill: #1967D2;\n",
              "      height: 32px;\n",
              "      padding: 0 0 0 0;\n",
              "      width: 32px;\n",
              "    }\n",
              "\n",
              "    .colab-df-convert:hover {\n",
              "      background-color: #E2EBFA;\n",
              "      box-shadow: 0px 1px 2px rgba(60, 64, 67, 0.3), 0px 1px 3px 1px rgba(60, 64, 67, 0.15);\n",
              "      fill: #174EA6;\n",
              "    }\n",
              "\n",
              "    .colab-df-buttons div {\n",
              "      margin-bottom: 4px;\n",
              "    }\n",
              "\n",
              "    [theme=dark] .colab-df-convert {\n",
              "      background-color: #3B4455;\n",
              "      fill: #D2E3FC;\n",
              "    }\n",
              "\n",
              "    [theme=dark] .colab-df-convert:hover {\n",
              "      background-color: #434B5C;\n",
              "      box-shadow: 0px 1px 3px 1px rgba(0, 0, 0, 0.15);\n",
              "      filter: drop-shadow(0px 1px 2px rgba(0, 0, 0, 0.3));\n",
              "      fill: #FFFFFF;\n",
              "    }\n",
              "  </style>\n",
              "\n",
              "    <script>\n",
              "      const buttonEl =\n",
              "        document.querySelector('#df-88f3880a-866a-4326-b6b6-4e17312e6ec3 button.colab-df-convert');\n",
              "      buttonEl.style.display =\n",
              "        google.colab.kernel.accessAllowed ? 'block' : 'none';\n",
              "\n",
              "      async function convertToInteractive(key) {\n",
              "        const element = document.querySelector('#df-88f3880a-866a-4326-b6b6-4e17312e6ec3');\n",
              "        const dataTable =\n",
              "          await google.colab.kernel.invokeFunction('convertToInteractive',\n",
              "                                                    [key], {});\n",
              "        if (!dataTable) return;\n",
              "\n",
              "        const docLinkHtml = 'Like what you see? Visit the ' +\n",
              "          '<a target=\"_blank\" href=https://colab.research.google.com/notebooks/data_table.ipynb>data table notebook</a>'\n",
              "          + ' to learn more about interactive tables.';\n",
              "        element.innerHTML = '';\n",
              "        dataTable['output_type'] = 'display_data';\n",
              "        await google.colab.output.renderOutput(dataTable, element);\n",
              "        const docLink = document.createElement('div');\n",
              "        docLink.innerHTML = docLinkHtml;\n",
              "        element.appendChild(docLink);\n",
              "      }\n",
              "    </script>\n",
              "  </div>\n",
              "\n",
              "\n",
              "<div id=\"df-4d0970f6-faba-4456-b170-55ed4185a3d3\">\n",
              "  <button class=\"colab-df-quickchart\" onclick=\"quickchart('df-4d0970f6-faba-4456-b170-55ed4185a3d3')\"\n",
              "            title=\"Suggest charts.\"\n",
              "            style=\"display:none;\">\n",
              "\n",
              "<svg xmlns=\"http://www.w3.org/2000/svg\" height=\"24px\"viewBox=\"0 0 24 24\"\n",
              "     width=\"24px\">\n",
              "    <g>\n",
              "        <path d=\"M19 3H5c-1.1 0-2 .9-2 2v14c0 1.1.9 2 2 2h14c1.1 0 2-.9 2-2V5c0-1.1-.9-2-2-2zM9 17H7v-7h2v7zm4 0h-2V7h2v10zm4 0h-2v-4h2v4z\"/>\n",
              "    </g>\n",
              "</svg>\n",
              "  </button>\n",
              "\n",
              "<style>\n",
              "  .colab-df-quickchart {\n",
              "      --bg-color: #E8F0FE;\n",
              "      --fill-color: #1967D2;\n",
              "      --hover-bg-color: #E2EBFA;\n",
              "      --hover-fill-color: #174EA6;\n",
              "      --disabled-fill-color: #AAA;\n",
              "      --disabled-bg-color: #DDD;\n",
              "  }\n",
              "\n",
              "  [theme=dark] .colab-df-quickchart {\n",
              "      --bg-color: #3B4455;\n",
              "      --fill-color: #D2E3FC;\n",
              "      --hover-bg-color: #434B5C;\n",
              "      --hover-fill-color: #FFFFFF;\n",
              "      --disabled-bg-color: #3B4455;\n",
              "      --disabled-fill-color: #666;\n",
              "  }\n",
              "\n",
              "  .colab-df-quickchart {\n",
              "    background-color: var(--bg-color);\n",
              "    border: none;\n",
              "    border-radius: 50%;\n",
              "    cursor: pointer;\n",
              "    display: none;\n",
              "    fill: var(--fill-color);\n",
              "    height: 32px;\n",
              "    padding: 0;\n",
              "    width: 32px;\n",
              "  }\n",
              "\n",
              "  .colab-df-quickchart:hover {\n",
              "    background-color: var(--hover-bg-color);\n",
              "    box-shadow: 0 1px 2px rgba(60, 64, 67, 0.3), 0 1px 3px 1px rgba(60, 64, 67, 0.15);\n",
              "    fill: var(--button-hover-fill-color);\n",
              "  }\n",
              "\n",
              "  .colab-df-quickchart-complete:disabled,\n",
              "  .colab-df-quickchart-complete:disabled:hover {\n",
              "    background-color: var(--disabled-bg-color);\n",
              "    fill: var(--disabled-fill-color);\n",
              "    box-shadow: none;\n",
              "  }\n",
              "\n",
              "  .colab-df-spinner {\n",
              "    border: 2px solid var(--fill-color);\n",
              "    border-color: transparent;\n",
              "    border-bottom-color: var(--fill-color);\n",
              "    animation:\n",
              "      spin 1s steps(1) infinite;\n",
              "  }\n",
              "\n",
              "  @keyframes spin {\n",
              "    0% {\n",
              "      border-color: transparent;\n",
              "      border-bottom-color: var(--fill-color);\n",
              "      border-left-color: var(--fill-color);\n",
              "    }\n",
              "    20% {\n",
              "      border-color: transparent;\n",
              "      border-left-color: var(--fill-color);\n",
              "      border-top-color: var(--fill-color);\n",
              "    }\n",
              "    30% {\n",
              "      border-color: transparent;\n",
              "      border-left-color: var(--fill-color);\n",
              "      border-top-color: var(--fill-color);\n",
              "      border-right-color: var(--fill-color);\n",
              "    }\n",
              "    40% {\n",
              "      border-color: transparent;\n",
              "      border-right-color: var(--fill-color);\n",
              "      border-top-color: var(--fill-color);\n",
              "    }\n",
              "    60% {\n",
              "      border-color: transparent;\n",
              "      border-right-color: var(--fill-color);\n",
              "    }\n",
              "    80% {\n",
              "      border-color: transparent;\n",
              "      border-right-color: var(--fill-color);\n",
              "      border-bottom-color: var(--fill-color);\n",
              "    }\n",
              "    90% {\n",
              "      border-color: transparent;\n",
              "      border-bottom-color: var(--fill-color);\n",
              "    }\n",
              "  }\n",
              "</style>\n",
              "\n",
              "  <script>\n",
              "    async function quickchart(key) {\n",
              "      const quickchartButtonEl =\n",
              "        document.querySelector('#' + key + ' button');\n",
              "      quickchartButtonEl.disabled = true;  // To prevent multiple clicks.\n",
              "      quickchartButtonEl.classList.add('colab-df-spinner');\n",
              "      try {\n",
              "        const charts = await google.colab.kernel.invokeFunction(\n",
              "            'suggestCharts', [key], {});\n",
              "      } catch (error) {\n",
              "        console.error('Error during call to suggestCharts:', error);\n",
              "      }\n",
              "      quickchartButtonEl.classList.remove('colab-df-spinner');\n",
              "      quickchartButtonEl.classList.add('colab-df-quickchart-complete');\n",
              "    }\n",
              "    (() => {\n",
              "      let quickchartButtonEl =\n",
              "        document.querySelector('#df-4d0970f6-faba-4456-b170-55ed4185a3d3 button');\n",
              "      quickchartButtonEl.style.display =\n",
              "        google.colab.kernel.accessAllowed ? 'block' : 'none';\n",
              "    })();\n",
              "  </script>\n",
              "</div>\n",
              "    </div>\n",
              "  </div>\n"
            ],
            "text/plain": [
              "  Category                                            Message\n",
              "0      ham  Go until jurong point, crazy.. Available only ...\n",
              "1      ham                      Ok lar... Joking wif u oni...\n",
              "2     spam  Free entry in 2 a wkly comp to win FA Cup fina...\n",
              "3      ham  U dun say so early hor... U c already then say...\n",
              "4      ham  Nah I don't think he goes to usf, he lives aro..."
            ]
          },
          "execution_count": 3,
          "metadata": {},
          "output_type": "execute_result"
        }
      ],
      "source": [
        "df.info()\n",
        "df.head(5)\n",
        "df.describe\n"
      ]
    },
    {
      "cell_type": "markdown",
      "metadata": {
        "id": "sjms7ns6zW-9"
      },
      "source": [
        "##3- Aplicar PROCESO DE LIMPIEZA"
      ]
    },
    {
      "cell_type": "code",
      "execution_count": null,
      "metadata": {
        "colab": {
          "base_uri": "https://localhost:8080/"
        },
        "id": "xxgjEruPzjL_",
        "outputId": "5123c123-7ae0-4a45-ae13-9c4b6dc7af77"
      },
      "outputs": [
        {
          "name": "stdout",
          "output_type": "stream",
          "text": [
            "Category    0\n",
            "Message     0\n",
            "dtype: int64\n"
          ]
        }
      ],
      "source": [
        "# En data set no hay valores nulos\n",
        "# Verificar los valores nulos en el DataFrame\n",
        "valores_nulos = df.isnull().sum()\n",
        "\n",
        "# Imprimir los valores nulos por columna\n",
        "print(valores_nulos)"
      ]
    },
    {
      "cell_type": "markdown",
      "metadata": {
        "id": "hSzNV8PczkA2"
      },
      "source": [
        "##4- Aplicar PROCESO para DEFINIR tu X e Y para APLICAR REGRESION LINEAL Y LOGISTICA segun el DATA SET a las variables que consideres adecuadas. RECUERDA ESTANDARIZAR LAS VARIABLES PARA CORRELACIÓN LOGÍSTICA."
      ]
    },
    {
      "cell_type": "code",
      "execution_count": null,
      "metadata": {
        "colab": {
          "base_uri": "https://localhost:8080/"
        },
        "id": "jFO4jxOYz7IM",
        "outputId": "a4110f16-d6f6-46dd-9e8b-e2982fb07859"
      },
      "outputs": [
        {
          "name": "stdout",
          "output_type": "stream",
          "text": [
            "[0.03909818 0.07573735 0.02611755 ... 0.02121639 0.03306034 0.07756403]\n",
            "\n",
            "Matriz de confusión: \n",
            "[[966   0]\n",
            " [ 29 120]]\n"
          ]
        }
      ],
      "source": [
        "df = pd.read_csv('/content/spam.csv')\n",
        "\n",
        "# etiquetas 'ham' a 0 y 'spam' a 1 en la columna 'Category'\n",
        "df['Category'] = df['Category'].map({'ham': 0, 'spam': 1})\n",
        "\n",
        "# Dividir los datos en variables independientes (X) y dependientes (y)\n",
        "X = df['Message']  # Mensajes\n",
        "y = df['Category']  # Etiquetas\n",
        "\n",
        "# Dividir los datos en conjuntos de entrenamiento y prueba\n",
        "X_train, X_test, y_train, y_test = train_test_split(X, y, test_size=0.2, random_state=42)\n",
        "\n",
        "#  TF-IDF para convertir el texto en vectores numéricos\n",
        "tfidf_vectorizer = TfidfVectorizer(max_features=5000)\n",
        "\n",
        "# Aplicar  conjuntos de entrenamiento y prueba\n",
        "X_train_tfidf = tfidf_vectorizer.fit_transform(X_train)\n",
        "X_test_tfidf = tfidf_vectorizer.transform(X_test)\n",
        "\n",
        "# Modelo de Regresión Logística y ajustarlo a los datos de entrenamiento\n",
        "logistic_regression_model = LogisticRegression()\n",
        "logistic_regression_model.fit(X_train_tfidf, y_train)\n",
        "\n",
        "# Realizar predicciones en el conjunto de prueba\n",
        "y_pred = logistic_regression_model.predict(X_test_tfidf)\n",
        "\n",
        "# Calcular la probabilidad de predicción para el conjunto de prueba\n",
        "y_prob = logistic_regression_model.predict_proba(X_test_tfidf)[:, 1]\n",
        "print(y_prob)\n",
        "\n",
        "# Calcular la matriz de confusión\n",
        "confusion = confusion_matrix(y_test, y_pred)\n",
        "\n",
        "print(f'\\nMatriz de confusión: \\n{confusion}')\n",
        "\n"
      ]
    },
    {
      "cell_type": "markdown",
      "metadata": {
        "id": "acd2_sj6z706"
      },
      "source": [
        "##5- Aplicar alguna METRICAS de EVALUACION a los modelos anteriores y justificar la elección de dicha métrica."
      ]
    },
    {
      "cell_type": "code",
      "execution_count": null,
      "metadata": {
        "colab": {
          "base_uri": "https://localhost:8080/",
          "height": 1000
        },
        "id": "K5Oaz4h_0CA8",
        "outputId": "f397a1da-29b3-40d2-b085-14819cc5f3a3"
      },
      "outputs": [
        {
          "data": {
            "image/png": "[encoded data removed]",
            "text/plain": [
              "<Figure size 800x600 with 2 Axes>"
            ]
          },
          "metadata": {},
          "output_type": "display_data"
        },
        {
          "name": "stdout",
          "output_type": "stream",
          "text": [
            "\n",
            "Precisión: 1.00\n",
            "\n",
            "Exhaustividad: 0.81\n",
            "\n",
            "Puntuación F1: 0.89\n",
            "\n",
            "Exactitud: 0.97\n",
            "\n",
            "Área bajo la curva ROC: 0.99\n"
          ]
        },
        {
          "data": {
            "image/png": "[encoded data removed]",
            "text/plain": [
              "<Figure size 800x600 with 1 Axes>"
            ]
          },
          "metadata": {},
          "output_type": "display_data"
        },
        {
          "name": "stdout",
          "output_type": "stream",
          "text": [
            "\n",
            "Precisión en el pliegue 1: 0.97\n",
            "\n",
            "Precisión en el pliegue 2: 0.98\n",
            "\n",
            "Precisión en el pliegue 3: 0.97\n",
            "\n",
            "Precisión en el pliegue 4: 0.96\n",
            "\n",
            "Precisión en el pliegue 5: 0.96\n",
            "\n",
            "Precisión en el pliegue 6: 0.97\n",
            "\n",
            "Precisión en el pliegue 7: 0.98\n",
            "\n",
            "Precisión en el pliegue 8: 0.97\n",
            "\n",
            "Precisión en el pliegue 9: 0.96\n",
            "\n",
            "Precisión en el pliegue 10: 0.96\n",
            "\n",
            "Precisión promedio: 0.97\n"
          ]
        }
      ],
      "source": [
        "# Calcular métricas como precisión, recall, puntuación F1 y área bajo la curva ROC\n",
        "accuracy = accuracy_score(y_test, y_pred)\n",
        "precision = precision_score(y_test, y_pred)\n",
        "recall = recall_score(y_test, y_pred)\n",
        "f1 = f1_score(y_test, y_pred)\n",
        "roc_auc = roc_auc_score(y_test, y_prob)\n",
        "\n",
        "# Graficar la matriz de confusión\n",
        "plt.figure(figsize=(8, 6))\n",
        "sns.heatmap(confusion, annot=True, fmt='d', cmap='Blues', xticklabels=['No Spam', 'Spam'], yticklabels=['No Spam', 'Spam'])\n",
        "plt.xlabel('Predicción')\n",
        "plt.ylabel('Valor Real')\n",
        "plt.title('Matriz de Confusión')\n",
        "plt.show()\n",
        "\n",
        "# Imprimir otras métricas\n",
        "print(f'\\nPrecisión: {precision:.2f}')\n",
        "print(f'\\nExhaustividad: {recall:.2f}')\n",
        "print(f'\\nPuntuación F1: {f1:.2f}')\n",
        "print(f'\\nExactitud: {accuracy:.2f}')\n",
        "print(f'\\nÁrea bajo la curva ROC: {roc_auc:.2f}')\n",
        "\n",
        "# Calculamos la curva ROC y el área bajo la curva (AUC)\n",
        "fpr, tpr, thresholds = roc_curve(y_test, y_prob)\n",
        "roc_auc = roc_auc_score(y_test, y_prob)\n",
        "\n",
        "# Graficamos la curva ROC\n",
        "plt.figure(figsize=(8, 6))\n",
        "plt.plot(fpr, tpr, color='darkorange', lw=2, label=f'AUC = {roc_auc:.2f}')\n",
        "plt.xlim([0.0, 1.0])\n",
        "plt.ylim([0.0, 1.05])\n",
        "plt.xlabel('Tasa de Falsos Positivos')\n",
        "plt.ylabel('Tasa de Verdaderos Positivos')\n",
        "plt.title('Curva ROC')\n",
        "plt.legend(loc='lower right')\n",
        "plt.show()\n",
        "\n",
        "#KFOLD\n",
        "from sklearn.model_selection import train_test_split, KFold\n",
        "# Crear un modelo de Regresión Logística\n",
        "logistic_regression_model = LogisticRegression()\n",
        "\n",
        "# Realizar validación cruzada K-Fold\n",
        "kfold = KFold(n_splits=5, shuffle=True, random_state=42)\n",
        "accuracies = []\n",
        "\n",
        "for train_idx, test_idx in kfold.split(X):\n",
        "    X_train, X_test = X.iloc[train_idx], X.iloc[test_idx]\n",
        "    y_train, y_test = y.iloc[train_idx], y.iloc[test_idx]\n",
        "\n",
        "    X_train_tfidf = tfidf_vectorizer.fit_transform(X_train)\n",
        "    X_test_tfidf = tfidf_vectorizer.transform(X_test)\n",
        "\n",
        "    logistic_regression_model.fit(X_train_tfidf, y_train)\n",
        "    y_pred = logistic_regression_model.predict(X_test_tfidf)\n",
        "\n",
        "    accuracy = accuracy_score(y_test, y_pred)\n",
        "    accuracies.append(accuracy)\n",
        "for train_idx, test_idx in kfold.split(X):\n",
        "    X_train, X_test = X.iloc[train_idx], X.iloc[test_idx]\n",
        "    y_train, y_test = y.iloc[train_idx], y.iloc[test_idx]\n",
        "\n",
        "    X_train_tfidf = tfidf_vectorizer.fit_transform(X_train)\n",
        "    X_test_tfidf = tfidf_vectorizer.transform(X_test)\n",
        "\n",
        "    logistic_regression_model.fit(X_train_tfidf, y_train)\n",
        "    y_pred = logistic_regression_model.predict(X_test_tfidf)\n",
        "\n",
        "    accuracy = accuracy_score(y_test, y_pred)\n",
        "    accuracies.append(accuracy)\n",
        "\n",
        "# Imprimir las precisiones para cada pliegue\n",
        "for fold, accuracy in enumerate(accuracies, 1):\n",
        "    print(f'\\nPrecisión en el pliegue {fold}: {accuracy:.2f}')\n",
        "\n",
        "# Calcular la precisión promedio de todos los pliegues\n",
        "mean_accuracy = np.mean(accuracies)\n",
        "print(f'\\nPrecisión promedio: {mean_accuracy:.2f}')\n"
      ]
    },
    {
      "cell_type": "markdown",
      "metadata": {
        "id": "eyul6-kk0Cgt"
      },
      "source": [
        "##6- Sacar una conclusión en función de los resultados, errores, y predicciones.\n",
        "Conclusion:\n",
        "\n",
        "La precisión es la proporción de mensajes etiquetados como \"spam\" que realmente son spam. Con una precisión del 1.00\n",
        "\n",
        "Exhaustividad (Recall): Con un valor de 0.81, el modelo captura el 81% de los mensajes de spam en el conjunto de prueba.\n",
        "\n",
        "Puntuación F1 (F1 Score): Con una puntuación F1 de 0.89, el modelo logra un buen equilibrio entre precisión y exhaustividad.\n",
        "\n",
        "Exactitud (Accuracy):Con una exactitud del 0.97, el modelo es muy preciso en la clasificación de mensajes como spam o no spam.\n",
        "\n",
        "Área bajo la curva ROC (ROC AUC): El valor del área bajo la curva ROC es 0.99, lo que indica que el modelo tiene un rendimiento excelente en la clasificación binaria y es capaz de distinguir entre spam y no spam\n",
        "\n",
        "En resumen, el modelo entrenado parece ser muy efectivo en la clasificación de mensajes de texto como spam o no spam, con métricas de rendimiento muy sólidas, incluyendo una alta precisión y un alto AUC-ROC.\n",
        "\n",
        "La validación cruzada K-Fold de precisión en cada pliegue son muy consistentes y varían entre 0.96 y 0.98, lo que indica que el modelo de Regresión Logística tiene buen rendimiento en predecir de spam y no spam, respaldado por la precisión promedio del 0.97 en la validación cruzada K-Fold."
      ]
    },
    {
      "cell_type": "markdown",
      "metadata": {
        "id": "xMm73P9l0G_V"
      },
      "source": [
        "##7- Aplicar un MODELO DE APRENDIZAJE NO SUPERVISADO (k-means, arbol de  decisión, KNN) Con el resultado obtenido del algoritmo de agrupamiento elegido, agregar al dataset una columna con esta nueva variables del grupo al que pertenece cada dato.\n"
      ]
    },
    {
      "cell_type": "code",
      "execution_count": null,
      "metadata": {
        "colab": {
          "base_uri": "https://localhost:8080/",
          "height": 508
        },
        "id": "mY1zMnmVGVhZ",
        "outputId": "6703670d-a059-4973-9efd-4d68e35f89a3"
      },
      "outputs": [
        {
          "name": "stderr",
          "output_type": "stream",
          "text": [
            "/usr/local/lib/python3.10/dist-packages/sklearn/cluster/_kmeans.py:870: FutureWarning: The default value of `n_init` will change from 10 to 'auto' in 1.4. Set the value of `n_init` explicitly to suppress the warning\n",
            "  warnings.warn(\n"
          ]
        },
        {
          "data": {
            "image/png": "[encoded data removed]",
            "text/plain": [
              "<Figure size 640x480 with 1 Axes>"
            ]
          },
          "metadata": {},
          "output_type": "display_data"
        }
      ],
      "source": [
        "from sklearn.cluster import KMeans\n",
        "from sklearn.feature_extraction.text import TfidfVectorizer\n",
        "from sklearn.decomposition import PCA\n",
        "\n",
        "# Cargar tus datos y dividirlos en conjuntos de entrenamiento y prueba\n",
        "X = df['Message']\n",
        "y = df['Category']\n",
        "X_train, X_test, y_train, y_test = train_test_split(X, y, test_size=0.2, random_state=42)\n",
        "\n",
        "# Aplicar la vectorización de texto (TF-IDF)\n",
        "vectorizer = TfidfVectorizer()\n",
        "X_train_tfidf = vectorizer.fit_transform(X_train)\n",
        "\n",
        "# Aplicar PCA para reducir la dimensionalidad a 2 componentes\n",
        "pca = PCA(n_components=2)\n",
        "X_pca = pca.fit_transform(X_train_tfidf.toarray())\n",
        "\n",
        "# Crear un modelo K-Means con 2 clusters (ham y spam)\n",
        "kmeans = KMeans(n_clusters=2, random_state=0)\n",
        "\n",
        "# Ajustar el modelo K-Means a los datos reducidos\n",
        "kmeans.fit(X_pca)\n",
        "\n",
        "# Obtener las etiquetas de los clusters asignados a cada mensaje\n",
        "labels = kmeans.labels_\n",
        "\n",
        "# Graficar los datos con colores que representan los clusters\n",
        "plt.scatter(X_pca[:, 0], X_pca[:, 1], c=labels, cmap='viridis')\n",
        "plt.title('Agrupación de Mensajes con K-Means (PCA)')\n",
        "plt.show()\n",
        "\n",
        "\n",
        "\n",
        "\n"
      ]
    },
    {
      "cell_type": "code",
      "execution_count": null,
      "metadata": {
        "colab": {
          "base_uri": "https://localhost:8080/"
        },
        "id": "E9VOBC3IHbDk",
        "outputId": "f5e669de-2761-4573-dd8c-33cbc9cbc5fa"
      },
      "outputs": [
        {
          "name": "stdout",
          "output_type": "stream",
          "text": [
            "Forma antes de X_train: (4457, 7701)\n"
          ]
        },
        {
          "name": "stderr",
          "output_type": "stream",
          "text": [
            "/usr/local/lib/python3.10/dist-packages/sklearn/cluster/_kmeans.py:870: FutureWarning: The default value of `n_init` will change from 10 to 'auto' in 1.4. Set the value of `n_init` explicitly to suppress the warning\n",
            "  warnings.warn(\n"
          ]
        },
        {
          "name": "stdout",
          "output_type": "stream",
          "text": [
            "Forma despues de X_train: (4457, 7701)\n",
            "Forma de etiquetas (labels): (4457,)\n",
            "0       0.0\n",
            "1       0.0\n",
            "2       0.0\n",
            "3       0.0\n",
            "4       0.0\n",
            "       ... \n",
            "5567    NaN\n",
            "5568    NaN\n",
            "5569    NaN\n",
            "5570    NaN\n",
            "5571    NaN\n",
            "Name: Cluster, Length: 5572, dtype: float64\n",
            "<class 'pandas.core.frame.DataFrame'>\n",
            "RangeIndex: 5572 entries, 0 to 5571\n",
            "Data columns (total 3 columns):\n",
            " #   Column    Non-Null Count  Dtype  \n",
            "---  ------    --------------  -----  \n",
            " 0   Category  5572 non-null   int64  \n",
            " 1   Message   5572 non-null   object \n",
            " 2   Cluster   4457 non-null   float64\n",
            "dtypes: float64(1), int64(1), object(1)\n",
            "memory usage: 130.7+ KB\n"
          ]
        }
      ],
      "source": [
        "from sklearn.tree import DecisionTreeClassifier, export_graphviz\n",
        "import pydotplus\n",
        "from IPython.display import Image\n",
        "from sklearn.cluster import KMeans\n",
        "from sklearn.feature_extraction.text import TfidfVectorizer\n",
        "from sklearn.model_selection import train_test_split\n",
        "\n",
        "\n",
        "# Cargar tus datos\n",
        "df = pd.read_csv('/content/spam.csv')\n",
        "\n",
        "# Etiquetas 'ham' a 0 y 'spam' a 1 en la columna 'Category'\n",
        "df['Category'] = df['Category'].map({'ham': 0, 'spam': 1})\n",
        "\n",
        "# Cargar tus datos y dividirlos en conjuntos de entrenamiento y prueba\n",
        "X = df['Message']\n",
        "y = df['Category']\n",
        "\n",
        "# Dividir los datos en conjuntos de entrenamiento y prueba\n",
        "X_train, X_test, y_train, y_test = train_test_split(X, y, test_size=0.2, random_state=42)\n",
        "\n",
        "# Aplicar la vectorización de texto (TF-IDF)\n",
        "vectorizer = TfidfVectorizer()\n",
        "X_train_tfidf = vectorizer.fit_transform(X_train)\n",
        "print(\"Forma antes de X_train:\", X_train_tfidf.shape)\n",
        "# Definir el número de clusters (K)\n",
        "K = 3\n",
        "\n",
        "# Crear y ajustar el modelo K-Means\n",
        "kmeans = KMeans(n_clusters=K, random_state=42)\n",
        "kmeans.fit(X_train_tfidf)\n",
        "\n",
        "# Obtener las etiquetas de los clusters\n",
        "labels = kmeans.labels_\n",
        "\n",
        "# Crear un nuevo DataFrame con las etiquetas\n",
        "labels_df = pd.DataFrame({'Cluster': labels})\n",
        "\n",
        "# Reiniciar el índice para que coincida con el DataFrame original df\n",
        "labels_df = labels_df.reset_index(drop=True)\n",
        "\n",
        "# Unir el nuevo DataFrame con df usando el índice\n",
        "df = pd.concat([df, labels_df], axis=1)\n",
        "\n",
        "# Verifica la forma de X_train\n",
        "print(\"Forma despues de X_train:\", X_train_tfidf.shape)\n",
        "print(\"Forma de etiquetas (labels):\", labels.shape)\n",
        "len(df)\n",
        "cluster_column = df['Cluster']\n",
        "print(cluster_column)\n",
        "df.info()"
      ]
    },
    {
      "cell_type": "markdown",
      "metadata": {
        "id": "YPAyN6IJ1pFx"
      },
      "source": []
    },
    {
      "cell_type": "markdown",
      "metadata": {
        "id": "DJ_j2lkX1dAL"
      },
      "source": [
        "Se eligió K = 3 "
      ]
    },
    {
      "cell_type": "markdown",
      "metadata": {
        "id": "HYoODPEl0Mnd"
      },
      "source": []
    },
    {
      "cell_type": "markdown",
      "metadata": {},
      "source": [
        "##8- Generar una conclusión con relación a como podría obtener mejores datos en este dataset, o que información considera importante que se podria evaluar para mejorar su predicción encontrada.\n",
        "\n",
        "Conclusion: para obtener mejores datos nos centrariamos en análisis de errores: Examinar los casos en los que el modelo falla y trata de entender por qué lo hace. Esto puede proporcionar información sobre cómo mejorar el modelo.\n",
        "Deberiamos crear nuevas características o extraer información adicional de los mensajes de texto que puedan ser útiles para la clasificación.Sin desatender la actualización de datos entrenamiento regularmente  para que el modelo esté al tanto de nuevas tendencias y patrones en los mensajes de spam.\n",
        "Asi como el hecho de considerar la incorporación de características de detección de idioma para adaptar el modelo a idiomas específicos es bienvenido.\n",
        "\n",
        "\n",
        "\n",
        "\n",
        "\n"
      ]
    },
    {
      "cell_type": "code",
      "execution_count": null,
      "metadata": {
        "id": "uniUfB9j0Q61"
      },
      "outputs": [],
      "source": []
    }
  ],
  "metadata": {
    "colab": {
      "provenance": []
    },
    "kernelspec": {
      "display_name": "Python 3",
      "name": "python3"
    },
    "language_info": {
      "name": "python"
    }
  },
  "nbformat": 4,
  "nbformat_minor": 0
}
